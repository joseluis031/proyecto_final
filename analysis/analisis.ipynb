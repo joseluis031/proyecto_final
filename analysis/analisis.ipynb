{
 "cells": [
  {
   "attachments": {},
   "cell_type": "markdown",
   "metadata": {},
   "source": [
    "Librerias"
   ]
  },
  {
   "cell_type": "code",
   "execution_count": 1,
   "metadata": {},
   "outputs": [],
   "source": [
    "import pandas as pd #instalo librerias\n",
    "import numpy as np\n",
    "\n",
    "from sklearn.datasets import load_boston\n",
    "from sklearn.model_selection import train_test_split\n",
    "from sklearn.preprocessing import StandardScaler\n",
    "\n",
    "from sklearn.linear_model import LinearRegression\n",
    "from sklearn.linear_model import Lasso\n",
    "from sklearn.linear_model import Ridge\n",
    "from sklearn.linear_model import ElasticNet\n",
    "\n",
    "from statsmodels.api import add_constant, OLS\n",
    "from statsmodels.formula.api import ols\n",
    "\n",
    "import pylab as plt\n",
    "import seaborn as sns\n",
    "\n",
    "%matplotlib inline\n",
    "\n",
    "import warnings\n",
    "warnings.filterwarnings('ignore')"
   ]
  },
  {
   "attachments": {},
   "cell_type": "markdown",
   "metadata": {},
   "source": [
    "Cargamos los datos del csv"
   ]
  },
  {
   "cell_type": "code",
   "execution_count": null,
   "metadata": {},
   "outputs": [],
   "source": [
    "data = pd.read_excel('regression/regression_data.xls')"
   ]
  },
  {
   "attachments": {},
   "cell_type": "markdown",
   "metadata": {},
   "source": [
    "Analisis de los datos y limpieza"
   ]
  },
  {
   "cell_type": "code",
   "execution_count": null,
   "metadata": {},
   "outputs": [],
   "source": [
    "data.info()"
   ]
  },
  {
   "cell_type": "code",
   "execution_count": null,
   "metadata": {},
   "outputs": [],
   "source": [
    "data.isna().sum()"
   ]
  },
  {
   "cell_type": "code",
   "execution_count": null,
   "metadata": {},
   "outputs": [],
   "source": [
    "data.describe().T"
   ]
  },
  {
   "attachments": {},
   "cell_type": "markdown",
   "metadata": {},
   "source": [
    "Analisis de correlación"
   ]
  },
  {
   "cell_type": "code",
   "execution_count": null,
   "metadata": {},
   "outputs": [],
   "source": [
    "plt.figure(figsize=(20, 15))\n",
    "\n",
    "sns.set(style='white')\n",
    "\n",
    "mask=np.triu(np.ones_like(data.corr(), dtype=bool))\n",
    "\n",
    "cmap=sns.diverging_palette(0, 10, as_cmap=True)\n",
    "\n",
    "\n",
    "sns.heatmap(data.corr(),\n",
    "           mask=mask,\n",
    "          cmap=cmap,\n",
    "          center=0,\n",
    "          square=True,\n",
    "          annot=True,\n",
    "          linewidths=0.5,\n",
    "          cbar_kws={'shrink': 0.5});"
   ]
  },
  {
   "cell_type": "code",
   "execution_count": null,
   "metadata": {},
   "outputs": [],
   "source": [
    "data = data.drop([\"lat\", \"long\",\"id\",\"date\"], axis=1)\n"
   ]
  },
  {
   "cell_type": "code",
   "execution_count": null,
   "metadata": {},
   "outputs": [],
   "source": [
    "def plot_regression_model(x,y):\n",
    "    \n",
    "    x_const = add_constant(x) # add a constant to the model\n",
    "    \n",
    "    modelo = OLS(y, x_const).fit() # fit the model\n",
    "    \n",
    "    pred = modelo.predict(x_const) # make predictions\n",
    "    \n",
    "    print(modelo.summary());\n",
    "    try:\n",
    "        const = modelo.params[0] # create a variable with the value of the constant given by the summary\n",
    "        coef = modelo.params[1] # create a variable with the value of the coef given by the summary\n",
    "\n",
    "        x_l=np.linspace(x.min(), x.max(), 50) \n",
    "        y_l= coef*x_l + const # function of the line\n",
    "\n",
    "        plt.figure(figsize=(10, 10));\n",
    "\n",
    "        # plot the line\n",
    "        plt.plot(x_l, y_l, label=f'{x.name} vs {y.name}={coef}*{x.name}+{const}');\n",
    "\n",
    "        # data\n",
    "        plt.scatter(x, y, marker='x', c='g', label=f'{x.name} vs {y.name}');\n",
    "\n",
    "        plt.title('Regresion lineal')\n",
    "        plt.xlabel(f'{x.name}')\n",
    "        plt.ylabel(f'{y.name}')\n",
    "        plt.legend()\n",
    "        plt.show();\n",
    "        return modelo\n",
    "    except:\n",
    "        print('No se puede imprimir la recta de regresión para modelos multivariable')\n",
    "        plt.show();\n",
    "        return modelo"
   ]
  },
  {
   "cell_type": "code",
   "execution_count": null,
   "metadata": {},
   "outputs": [],
   "source": [
    "X = data.drop([\"lat\", \"long\",\"id\",\"date\"], axis=1)\n",
    "\n",
    "y=data.price\n",
    "\n",
    "\n",
    "     \n",
    "\n",
    "for c in X:\n",
    "    plot_regression_model(X[c], y)"
   ]
  }
 ],
 "metadata": {
  "kernelspec": {
   "display_name": "Python 3.10.0 64-bit",
   "language": "python",
   "name": "python3"
  },
  "language_info": {
   "codemirror_mode": {
    "name": "ipython",
    "version": 3
   },
   "file_extension": ".py",
   "mimetype": "text/x-python",
   "name": "python",
   "nbconvert_exporter": "python",
   "pygments_lexer": "ipython3",
   "version": "3.10.0"
  },
  "orig_nbformat": 4,
  "vscode": {
   "interpreter": {
    "hash": "e6104bf604ca1a37923b4f279a3bc03307071c215727ed52dcf746e90ba65021"
   }
  }
 },
 "nbformat": 4,
 "nbformat_minor": 2
}
